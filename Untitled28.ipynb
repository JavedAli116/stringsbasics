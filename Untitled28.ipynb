{
 "cells": [
  {
   "cell_type": "code",
   "execution_count": 1,
   "metadata": {},
   "outputs": [],
   "source": [
    "college = \"muffakham jha\""
   ]
  },
  {
   "cell_type": "code",
   "execution_count": 2,
   "metadata": {},
   "outputs": [
    {
     "data": {
      "text/plain": [
       "str"
      ]
     },
     "execution_count": 2,
     "metadata": {},
     "output_type": "execute_result"
    }
   ],
   "source": [
    "type(college)"
   ]
  },
  {
   "cell_type": "code",
   "execution_count": 4,
   "metadata": {},
   "outputs": [
    {
     "data": {
      "text/plain": [
       "'f'"
      ]
     },
     "execution_count": 4,
     "metadata": {},
     "output_type": "execute_result"
    }
   ],
   "source": [
    "college[2]"
   ]
  },
  {
   "cell_type": "code",
   "execution_count": 5,
   "metadata": {},
   "outputs": [
    {
     "data": {
      "text/plain": [
       "'a'"
      ]
     },
     "execution_count": 5,
     "metadata": {},
     "output_type": "execute_result"
    }
   ],
   "source": [
    "college[4]"
   ]
  },
  {
   "cell_type": "code",
   "execution_count": 7,
   "metadata": {},
   "outputs": [
    {
     "data": {
      "text/plain": [
       "'h'"
      ]
     },
     "execution_count": 7,
     "metadata": {},
     "output_type": "execute_result"
    }
   ],
   "source": [
    "college[6]"
   ]
  },
  {
   "cell_type": "code",
   "execution_count": 8,
   "metadata": {},
   "outputs": [
    {
     "data": {
      "text/plain": [
       "'a'"
      ]
     },
     "execution_count": 8,
     "metadata": {},
     "output_type": "execute_result"
    }
   ],
   "source": [
    "college[7]"
   ]
  },
  {
   "cell_type": "code",
   "execution_count": 9,
   "metadata": {},
   "outputs": [
    {
     "data": {
      "text/plain": [
       "'h'"
      ]
     },
     "execution_count": 9,
     "metadata": {},
     "output_type": "execute_result"
    }
   ],
   "source": [
    "college[-2]"
   ]
  },
  {
   "cell_type": "code",
   "execution_count": 10,
   "metadata": {},
   "outputs": [
    {
     "data": {
      "text/plain": [
       "'a'"
      ]
     },
     "execution_count": 10,
     "metadata": {},
     "output_type": "execute_result"
    }
   ],
   "source": [
    "college[-1]"
   ]
  },
  {
   "cell_type": "code",
   "execution_count": 11,
   "metadata": {},
   "outputs": [
    {
     "ename": "SyntaxError",
     "evalue": "invalid syntax (<ipython-input-11-ea21ccf15c80>, line 1)",
     "output_type": "error",
     "traceback": [
      "\u001b[1;36m  File \u001b[1;32m\"<ipython-input-11-ea21ccf15c80>\"\u001b[1;36m, line \u001b[1;32m1\u001b[0m\n\u001b[1;33m    'this is my first programming class's'\u001b[0m\n\u001b[1;37m                                        ^\u001b[0m\n\u001b[1;31mSyntaxError\u001b[0m\u001b[1;31m:\u001b[0m invalid syntax\n"
     ]
    }
   ],
   "source": [
    "s1 = 'this is my first programming class's'"
   ]
  },
  {
   "cell_type": "code",
   "execution_count": 13,
   "metadata": {},
   "outputs": [],
   "source": [
    "s1 = \"this is my first programming class's\""
   ]
  },
  {
   "cell_type": "markdown",
   "metadata": {},
   "source": [
    "here \" \" is taken as string as well as ' ' is consider as a string "
   ]
  },
  {
   "cell_type": "code",
   "execution_count": 14,
   "metadata": {},
   "outputs": [
    {
     "data": {
      "text/plain": [
       "\"this is my first programming class's\""
      ]
     },
     "execution_count": 14,
     "metadata": {},
     "output_type": "execute_result"
    }
   ],
   "source": [
    "s1"
   ]
  },
  {
   "cell_type": "markdown",
   "metadata": {},
   "source": [
    "can u extract the data from s1 like example 5:10"
   ]
  },
  {
   "cell_type": "code",
   "execution_count": 15,
   "metadata": {},
   "outputs": [
    {
     "data": {
      "text/plain": [
       "'is my'"
      ]
     },
     "execution_count": 15,
     "metadata": {},
     "output_type": "execute_result"
    }
   ],
   "source": [
    "s1[5:10]"
   ]
  },
  {
   "cell_type": "code",
   "execution_count": 18,
   "metadata": {},
   "outputs": [
    {
     "data": {
      "text/plain": [
       "'this is my first program'"
      ]
     },
     "execution_count": 18,
     "metadata": {},
     "output_type": "execute_result"
    }
   ],
   "source": [
    "s1[0:24]"
   ]
  },
  {
   "cell_type": "markdown",
   "metadata": {},
   "source": [
    "here we can skip the letter while chossing the data for exp: if i gave a code like s1[0:24:2]\n",
    "    here i need the data from o to 24 with skip of a digit/letter"
   ]
  },
  {
   "cell_type": "code",
   "execution_count": 19,
   "metadata": {},
   "outputs": [
    {
     "data": {
      "text/plain": [
       "'ti sm is rga'"
      ]
     },
     "execution_count": 19,
     "metadata": {},
     "output_type": "execute_result"
    }
   ],
   "source": [
    "s1[0:24:2]"
   ]
  },
  {
   "cell_type": "markdown",
   "metadata": {},
   "source": [
    "small example to understand in better way s2=\"javedali\"\n",
    "if i want 'jel' from above data . "
   ]
  },
  {
   "cell_type": "code",
   "execution_count": 20,
   "metadata": {},
   "outputs": [],
   "source": [
    "s2 = \"javedali\""
   ]
  },
  {
   "cell_type": "code",
   "execution_count": 21,
   "metadata": {},
   "outputs": [
    {
     "data": {
      "text/plain": [
       "'javedali'"
      ]
     },
     "execution_count": 21,
     "metadata": {},
     "output_type": "execute_result"
    }
   ],
   "source": [
    "s2"
   ]
  },
  {
   "cell_type": "code",
   "execution_count": 22,
   "metadata": {},
   "outputs": [
    {
     "data": {
      "text/plain": [
       "'jel'"
      ]
     },
     "execution_count": 22,
     "metadata": {},
     "output_type": "execute_result"
    }
   ],
   "source": [
    "s2[0:8:3]"
   ]
  },
  {
   "cell_type": "markdown",
   "metadata": {},
   "source": [
    "lets  skip the digits/letter through negative number"
   ]
  },
  {
   "cell_type": "code",
   "execution_count": 23,
   "metadata": {},
   "outputs": [
    {
     "data": {
      "text/plain": [
       "''"
      ]
     },
     "execution_count": 23,
     "metadata": {},
     "output_type": "execute_result"
    }
   ],
   "source": [
    "s2[0:8:-1]"
   ]
  },
  {
   "cell_type": "markdown",
   "metadata": {},
   "source": [
    "here we can see that we gave the data to move from 0 to 8 its a right movement where as jump is -1 its a movement of negative[left] side. so as the contridiction an empty space is displayed."
   ]
  },
  {
   "cell_type": "code",
   "execution_count": 24,
   "metadata": {},
   "outputs": [
    {
     "data": {
      "text/plain": [
       "'iladeva'"
      ]
     },
     "execution_count": 24,
     "metadata": {},
     "output_type": "execute_result"
    }
   ],
   "source": [
    "s2[8:0:-1]"
   ]
  },
  {
   "cell_type": "code",
   "execution_count": 25,
   "metadata": {},
   "outputs": [
    {
     "data": {
      "text/plain": [
       "'javedali'"
      ]
     },
     "execution_count": 25,
     "metadata": {},
     "output_type": "execute_result"
    }
   ],
   "source": [
    "s2"
   ]
  },
  {
   "cell_type": "code",
   "execution_count": 26,
   "metadata": {},
   "outputs": [
    {
     "data": {
      "text/plain": [
       "'javed'"
      ]
     },
     "execution_count": 26,
     "metadata": {},
     "output_type": "execute_result"
    }
   ],
   "source": [
    "s2[:-3]"
   ]
  },
  {
   "cell_type": "code",
   "execution_count": 27,
   "metadata": {},
   "outputs": [
    {
     "data": {
      "text/plain": [
       "'li'"
      ]
     },
     "execution_count": 27,
     "metadata": {},
     "output_type": "execute_result"
    }
   ],
   "source": [
    "s2[-2:]"
   ]
  },
  {
   "cell_type": "code",
   "execution_count": 28,
   "metadata": {},
   "outputs": [
    {
     "data": {
      "text/plain": [
       "'javedali'"
      ]
     },
     "execution_count": 28,
     "metadata": {},
     "output_type": "execute_result"
    }
   ],
   "source": [
    "s2[::1]"
   ]
  },
  {
   "cell_type": "code",
   "execution_count": 29,
   "metadata": {},
   "outputs": [
    {
     "data": {
      "text/plain": [
       "'javedali'"
      ]
     },
     "execution_count": 29,
     "metadata": {},
     "output_type": "execute_result"
    }
   ],
   "source": [
    "s2[0:34:1]"
   ]
  },
  {
   "cell_type": "code",
   "execution_count": 30,
   "metadata": {},
   "outputs": [
    {
     "data": {
      "text/plain": [
       "'iladevaj'"
      ]
     },
     "execution_count": 30,
     "metadata": {},
     "output_type": "execute_result"
    }
   ],
   "source": [
    "s2[::-1]"
   ]
  },
  {
   "cell_type": "code",
   "execution_count": 31,
   "metadata": {},
   "outputs": [
    {
     "data": {
      "text/plain": [
       "'iaea'"
      ]
     },
     "execution_count": 31,
     "metadata": {},
     "output_type": "execute_result"
    }
   ],
   "source": [
    "s2[::-2]"
   ]
  },
  {
   "cell_type": "code",
   "execution_count": 32,
   "metadata": {},
   "outputs": [
    {
     "data": {
      "text/plain": [
       "'jvdl'"
      ]
     },
     "execution_count": 32,
     "metadata": {},
     "output_type": "execute_result"
    }
   ],
   "source": [
    "s2[0:54:2]"
   ]
  },
  {
   "cell_type": "code",
   "execution_count": 33,
   "metadata": {},
   "outputs": [
    {
     "data": {
      "text/plain": [
       "\"this is my first programming class's\""
      ]
     },
     "execution_count": 33,
     "metadata": {},
     "output_type": "execute_result"
    }
   ],
   "source": [
    "s1"
   ]
  },
  {
   "cell_type": "code",
   "execution_count": 34,
   "metadata": {},
   "outputs": [
    {
     "data": {
      "text/plain": [
       "\"s'ssalc gnimmargorp tsrif ym si siht\""
      ]
     },
     "execution_count": 34,
     "metadata": {},
     "output_type": "execute_result"
    }
   ],
   "source": [
    "s1[::-1]"
   ]
  },
  {
   "cell_type": "code",
   "execution_count": 35,
   "metadata": {},
   "outputs": [
    {
     "data": {
      "text/plain": [
       "'m si sih'"
      ]
     },
     "execution_count": 35,
     "metadata": {},
     "output_type": "execute_result"
    }
   ],
   "source": [
    "s1[8:0:-1]"
   ]
  },
  {
   "cell_type": "code",
   "execution_count": 36,
   "metadata": {},
   "outputs": [],
   "source": [
    "s3 = 'dharani'"
   ]
  },
  {
   "cell_type": "code",
   "execution_count": 37,
   "metadata": {},
   "outputs": [
    {
     "data": {
      "text/plain": [
       "'dharani'"
      ]
     },
     "execution_count": 37,
     "metadata": {},
     "output_type": "execute_result"
    }
   ],
   "source": [
    "s3"
   ]
  },
  {
   "cell_type": "code",
   "execution_count": 38,
   "metadata": {},
   "outputs": [
    {
     "data": {
      "text/plain": [
       "''"
      ]
     },
     "execution_count": 38,
     "metadata": {},
     "output_type": "execute_result"
    }
   ],
   "source": [
    "s3[-2:-7:1]"
   ]
  },
  {
   "cell_type": "code",
   "execution_count": 40,
   "metadata": {},
   "outputs": [
    {
     "data": {
      "text/plain": [
       "'dhara'"
      ]
     },
     "execution_count": 40,
     "metadata": {},
     "output_type": "execute_result"
    }
   ],
   "source": [
    "s3[-7:-2:1]"
   ]
  },
  {
   "cell_type": "code",
   "execution_count": 41,
   "metadata": {},
   "outputs": [
    {
     "data": {
      "text/plain": [
       "'daa'"
      ]
     },
     "execution_count": 41,
     "metadata": {},
     "output_type": "execute_result"
    }
   ],
   "source": [
    "s3[-7:-2:2]"
   ]
  },
  {
   "cell_type": "code",
   "execution_count": 42,
   "metadata": {},
   "outputs": [
    {
     "data": {
      "text/plain": [
       "'dharani3'"
      ]
     },
     "execution_count": 42,
     "metadata": {},
     "output_type": "execute_result"
    }
   ],
   "source": [
    "s3+'3'"
   ]
  },
  {
   "cell_type": "code",
   "execution_count": 43,
   "metadata": {},
   "outputs": [
    {
     "data": {
      "text/plain": [
       "'dharani4'"
      ]
     },
     "execution_count": 43,
     "metadata": {},
     "output_type": "execute_result"
    }
   ],
   "source": [
    "s3+\"4\""
   ]
  },
  {
   "cell_type": "code",
   "execution_count": 44,
   "metadata": {},
   "outputs": [
    {
     "data": {
      "text/plain": [
       "'dharani5'"
      ]
     },
     "execution_count": 44,
     "metadata": {},
     "output_type": "execute_result"
    }
   ],
   "source": [
    "s3+str(5)"
   ]
  },
  {
   "cell_type": "code",
   "execution_count": 45,
   "metadata": {},
   "outputs": [
    {
     "data": {
      "text/plain": [
       "7"
      ]
     },
     "execution_count": 45,
     "metadata": {},
     "output_type": "execute_result"
    }
   ],
   "source": [
    "len(s3)"
   ]
  },
  {
   "cell_type": "code",
   "execution_count": 46,
   "metadata": {},
   "outputs": [
    {
     "data": {
      "text/plain": [
       "8"
      ]
     },
     "execution_count": 46,
     "metadata": {},
     "output_type": "execute_result"
    }
   ],
   "source": [
    "len(s2)"
   ]
  },
  {
   "cell_type": "code",
   "execution_count": 47,
   "metadata": {},
   "outputs": [
    {
     "data": {
      "text/plain": [
       "36"
      ]
     },
     "execution_count": 47,
     "metadata": {},
     "output_type": "execute_result"
    }
   ],
   "source": [
    "len(s1)"
   ]
  },
  {
   "cell_type": "code",
   "execution_count": 48,
   "metadata": {},
   "outputs": [
    {
     "data": {
      "text/plain": [
       "\"this is my first programming class's\""
      ]
     },
     "execution_count": 48,
     "metadata": {},
     "output_type": "execute_result"
    }
   ],
   "source": [
    "s1"
   ]
  },
  {
   "cell_type": "code",
   "execution_count": 49,
   "metadata": {},
   "outputs": [
    {
     "data": {
      "text/plain": [
       "'javedali'"
      ]
     },
     "execution_count": 49,
     "metadata": {},
     "output_type": "execute_result"
    }
   ],
   "source": [
    "s2"
   ]
  },
  {
   "cell_type": "code",
   "execution_count": 50,
   "metadata": {},
   "outputs": [
    {
     "data": {
      "text/plain": [
       "'dharani'"
      ]
     },
     "execution_count": 50,
     "metadata": {},
     "output_type": "execute_result"
    }
   ],
   "source": [
    "s3"
   ]
  },
  {
   "cell_type": "code",
   "execution_count": 51,
   "metadata": {},
   "outputs": [
    {
     "data": {
      "text/plain": [
       "\"this is my first programming class'sthis is my first programming class'sthis is my first programming class'sthis is my first programming class's\""
      ]
     },
     "execution_count": 51,
     "metadata": {},
     "output_type": "execute_result"
    }
   ],
   "source": [
    "s1*4"
   ]
  },
  {
   "cell_type": "code",
   "execution_count": 52,
   "metadata": {},
   "outputs": [
    {
     "data": {
      "text/plain": [
       "'javedalijavedalijavedalijavedalijavedali'"
      ]
     },
     "execution_count": 52,
     "metadata": {},
     "output_type": "execute_result"
    }
   ],
   "source": [
    "s2*5"
   ]
  },
  {
   "cell_type": "code",
   "execution_count": 53,
   "metadata": {},
   "outputs": [
    {
     "data": {
      "text/plain": [
       "'dharanidharanidharanidharanidharanidharani'"
      ]
     },
     "execution_count": 53,
     "metadata": {},
     "output_type": "execute_result"
    }
   ],
   "source": [
    "s3*6"
   ]
  },
  {
   "cell_type": "code",
   "execution_count": 55,
   "metadata": {},
   "outputs": [
    {
     "data": {
      "text/plain": [
       "2"
      ]
     },
     "execution_count": 55,
     "metadata": {},
     "output_type": "execute_result"
    }
   ],
   "source": [
    "s3.count('a')"
   ]
  },
  {
   "cell_type": "code",
   "execution_count": 56,
   "metadata": {},
   "outputs": [
    {
     "data": {
      "text/plain": [
       "1"
      ]
     },
     "execution_count": 56,
     "metadata": {},
     "output_type": "execute_result"
    }
   ],
   "source": [
    "s3.count('dha')"
   ]
  },
  {
   "cell_type": "code",
   "execution_count": 57,
   "metadata": {},
   "outputs": [
    {
     "data": {
      "text/plain": [
       "['dh', 'r', 'ni']"
      ]
     },
     "execution_count": 57,
     "metadata": {},
     "output_type": "execute_result"
    }
   ],
   "source": [
    "s3.split('a')"
   ]
  },
  {
   "cell_type": "code",
   "execution_count": 58,
   "metadata": {},
   "outputs": [],
   "source": [
    "vk = \"Virat Kohli (Hindi pronunciation: [ʋɪˈɾɑːʈ ˈkoːɦli] (listen); born 5 November 1988) is an Indian international cricketer and former captain of the India national team. He is widely regarded as one of the greatest batsmen in modern cricket.[3] Kohli plays as a right-handed batsman for Royal Challengers Bangalore in the Indian Premier League and for Delhi in Indian domestic cricket. Kohli holds the record for scoring most runs in both T20 internationals and in IPL, named as player of decade by ICC in 2020. With Indian team he has won 2011 World Cup and 2013 Champions trophy.\""
   ]
  },
  {
   "cell_type": "code",
   "execution_count": 59,
   "metadata": {},
   "outputs": [
    {
     "data": {
      "text/plain": [
       "'Virat Kohli (Hindi pronunciation: [ʋɪˈɾɑːʈ ˈkoːɦli] (listen); born 5 November 1988) is an Indian international cricketer and former captain of the India national team. He is widely regarded as one of the greatest batsmen in modern cricket.[3] Kohli plays as a right-handed batsman for Royal Challengers Bangalore in the Indian Premier League and for Delhi in Indian domestic cricket. Kohli holds the record for scoring most runs in both T20 internationals and in IPL, named as player of decade by ICC in 2020. With Indian team he has won 2011 World Cup and 2013 Champions trophy.'"
      ]
     },
     "execution_count": 59,
     "metadata": {},
     "output_type": "execute_result"
    }
   ],
   "source": [
    "vk"
   ]
  },
  {
   "cell_type": "code",
   "execution_count": 60,
   "metadata": {},
   "outputs": [
    {
     "data": {
      "text/plain": [
       "['Virat',\n",
       " 'Kohli',\n",
       " '(Hindi',\n",
       " 'pronunciation:',\n",
       " '[ʋɪˈɾɑːʈ',\n",
       " 'ˈkoːɦli]',\n",
       " '(listen);',\n",
       " 'born',\n",
       " '5',\n",
       " 'November',\n",
       " '1988)',\n",
       " 'is',\n",
       " 'an',\n",
       " 'Indian',\n",
       " 'international',\n",
       " 'cricketer',\n",
       " 'and',\n",
       " 'former',\n",
       " 'captain',\n",
       " 'of',\n",
       " 'the',\n",
       " 'India',\n",
       " 'national',\n",
       " 'team.',\n",
       " 'He',\n",
       " 'is',\n",
       " 'widely',\n",
       " 'regarded',\n",
       " 'as',\n",
       " 'one',\n",
       " 'of',\n",
       " 'the',\n",
       " 'greatest',\n",
       " 'batsmen',\n",
       " 'in',\n",
       " 'modern',\n",
       " 'cricket.[3]',\n",
       " 'Kohli',\n",
       " 'plays',\n",
       " 'as',\n",
       " 'a',\n",
       " 'right-handed',\n",
       " 'batsman',\n",
       " 'for',\n",
       " 'Royal',\n",
       " 'Challengers',\n",
       " 'Bangalore',\n",
       " 'in',\n",
       " 'the',\n",
       " 'Indian',\n",
       " 'Premier',\n",
       " 'League',\n",
       " 'and',\n",
       " 'for',\n",
       " 'Delhi',\n",
       " 'in',\n",
       " 'Indian',\n",
       " 'domestic',\n",
       " 'cricket.',\n",
       " 'Kohli',\n",
       " 'holds',\n",
       " 'the',\n",
       " 'record',\n",
       " 'for',\n",
       " 'scoring',\n",
       " 'most',\n",
       " 'runs',\n",
       " 'in',\n",
       " 'both',\n",
       " 'T20',\n",
       " 'internationals',\n",
       " 'and',\n",
       " 'in',\n",
       " 'IPL,',\n",
       " 'named',\n",
       " 'as',\n",
       " 'player',\n",
       " 'of',\n",
       " 'decade',\n",
       " 'by',\n",
       " 'ICC',\n",
       " 'in',\n",
       " '2020.',\n",
       " 'With',\n",
       " 'Indian',\n",
       " 'team',\n",
       " 'he',\n",
       " 'has',\n",
       " 'won',\n",
       " '2011',\n",
       " 'World',\n",
       " 'Cup',\n",
       " 'and',\n",
       " '2013',\n",
       " 'Champions',\n",
       " 'trophy.']"
      ]
     },
     "execution_count": 60,
     "metadata": {},
     "output_type": "execute_result"
    }
   ],
   "source": [
    "vk.split(\" \")"
   ]
  },
  {
   "cell_type": "code",
   "execution_count": 66,
   "metadata": {},
   "outputs": [],
   "source": [
    "vk2 = \"\"\"Virat Kohli (Hindi pronunciation: [ʋɪˈɾɑːʈ ˈkoːɦli] (listen); born 5 November 1988) is an Indian international cricketer and former captain of the India national team. He is widely regarded as one of the greatest batsmen in modern cricket.[3] Kohli plays as a right-handed batsman for Royal Challengers Bangalore in the Indian Premier League and for Delhi in Indian domestic cricket. Kohli holds the record for scoring most runs in both T20 internationals and in IPL, named as player of decade by ICC in 2020. With Indian team he has won 2011 World Cup and 2013 Champions trophy.\n",
    "\n",
    "Born and raised in Delhi, Kohli trained in West Delhi Cricket Academy; started his youth career with Delhi Under-15 team. Kohli made his international debut in 2008, he established himself as integral part of ODI team in next two years. In 2011, made his first Test appearance.[4] He reached the number one spot in the ICC rankings for ODI batsmen for the first time in 2013.[5] During 2014 T20 World Cup, Kohli set the record for most runs in the tournament. After rising to top of test–rankings in 2018, he became the only Indian-batsman to achieve number one position in ICC Rankings in all three formats. Kohli stepped-down as captain of T20I in 2021 and from test-format in early 2022.\n",
    "\n",
    "Kohli is considered prolific batsman and run-scorer. He has won Man of the Tournament twice at the ICC World Twenty20 (in 2014 and 2016). Playing for his franchise in IPL, he won the Orange Cap and Most-valuable Player Award in 2016 season. With 40 wins out of 68 tests, he is India's most successful test captain, and one of the most successful test captains of all time. Kohli has won most player of the match and series awards in T20I.\n",
    "\n",
    "Kohli's first major award in International cricket was ICC ODI Player of the Year in 2012. Kohli has won Sir Garfield Sobers Trophy twice (2017 and 2018), an award for ICC Cricketer of the Year. In 2018 he won ICC Test Player of the Year, and ICC ODI Player of the Year award; for the third time in his career. From 2016 to 2018, he won Wisden Leading Cricketer in the World, three times in a row. At the national level, he was awarded the Arjuna Award in 2013; the Padma Shri under the sports category in 2017 and the Rajiv Gandhi Khel Ratna award, the highest sporting honour in India, in 2018.\"\"\""
   ]
  },
  {
   "cell_type": "code",
   "execution_count": 67,
   "metadata": {},
   "outputs": [
    {
     "data": {
      "text/plain": [
       "\"Virat Kohli (Hindi pronunciation: [ʋɪˈɾɑːʈ ˈkoːɦli] (listen); born 5 November 1988) is an Indian international cricketer and former captain of the India national team. He is widely regarded as one of the greatest batsmen in modern cricket.[3] Kohli plays as a right-handed batsman for Royal Challengers Bangalore in the Indian Premier League and for Delhi in Indian domestic cricket. Kohli holds the record for scoring most runs in both T20 internationals and in IPL, named as player of decade by ICC in 2020. With Indian team he has won 2011 World Cup and 2013 Champions trophy.\\n\\nBorn and raised in Delhi, Kohli trained in West Delhi Cricket Academy; started his youth career with Delhi Under-15 team. Kohli made his international debut in 2008, he established himself as integral part of ODI team in next two years. In 2011, made his first Test appearance.[4] He reached the number one spot in the ICC rankings for ODI batsmen for the first time in 2013.[5] During 2014 T20 World Cup, Kohli set the record for most runs in the tournament. After rising to top of test–rankings in 2018, he became the only Indian-batsman to achieve number one position in ICC Rankings in all three formats. Kohli stepped-down as captain of T20I in 2021 and from test-format in early 2022.\\n\\nKohli is considered prolific batsman and run-scorer. He has won Man of the Tournament twice at the ICC World Twenty20 (in 2014 and 2016). Playing for his franchise in IPL, he won the Orange Cap and Most-valuable Player Award in 2016 season. With 40 wins out of 68 tests, he is India's most successful test captain, and one of the most successful test captains of all time. Kohli has won most player of the match and series awards in T20I.\\n\\nKohli's first major award in International cricket was ICC ODI Player of the Year in 2012. Kohli has won Sir Garfield Sobers Trophy twice (2017 and 2018), an award for ICC Cricketer of the Year. In 2018 he won ICC Test Player of the Year, and ICC ODI Player of the Year award; for the third time in his career. From 2016 to 2018, he won Wisden Leading Cricketer in the World, three times in a row. At the national level, he was awarded the Arjuna Award in 2013; the Padma Shri under the sports category in 2017 and the Rajiv Gandhi Khel Ratna award, the highest sporting honour in India, in 2018.\""
      ]
     },
     "execution_count": 67,
     "metadata": {},
     "output_type": "execute_result"
    }
   ],
   "source": [
    "vk2"
   ]
  },
  {
   "cell_type": "code",
   "execution_count": 68,
   "metadata": {},
   "outputs": [
    {
     "data": {
      "text/plain": [
       "['Virat',\n",
       " 'Kohli',\n",
       " '(Hindi',\n",
       " 'pronunciation:',\n",
       " '[ʋɪˈɾɑːʈ',\n",
       " 'ˈkoːɦli]',\n",
       " '(listen);',\n",
       " 'born',\n",
       " '5',\n",
       " 'November',\n",
       " '1988)',\n",
       " 'is',\n",
       " 'an',\n",
       " 'Indian',\n",
       " 'international',\n",
       " 'cricketer',\n",
       " 'and',\n",
       " 'former',\n",
       " 'captain',\n",
       " 'of',\n",
       " 'the',\n",
       " 'India',\n",
       " 'national',\n",
       " 'team.',\n",
       " 'He',\n",
       " 'is',\n",
       " 'widely',\n",
       " 'regarded',\n",
       " 'as',\n",
       " 'one',\n",
       " 'of',\n",
       " 'the',\n",
       " 'greatest',\n",
       " 'batsmen',\n",
       " 'in',\n",
       " 'modern',\n",
       " 'cricket.[3]',\n",
       " 'Kohli',\n",
       " 'plays',\n",
       " 'as',\n",
       " 'a',\n",
       " 'right-handed',\n",
       " 'batsman',\n",
       " 'for',\n",
       " 'Royal',\n",
       " 'Challengers',\n",
       " 'Bangalore',\n",
       " 'in',\n",
       " 'the',\n",
       " 'Indian',\n",
       " 'Premier',\n",
       " 'League',\n",
       " 'and',\n",
       " 'for',\n",
       " 'Delhi',\n",
       " 'in',\n",
       " 'Indian',\n",
       " 'domestic',\n",
       " 'cricket.',\n",
       " 'Kohli',\n",
       " 'holds',\n",
       " 'the',\n",
       " 'record',\n",
       " 'for',\n",
       " 'scoring',\n",
       " 'most',\n",
       " 'runs',\n",
       " 'in',\n",
       " 'both',\n",
       " 'T20',\n",
       " 'internationals',\n",
       " 'and',\n",
       " 'in',\n",
       " 'IPL,',\n",
       " 'named',\n",
       " 'as',\n",
       " 'player',\n",
       " 'of',\n",
       " 'decade',\n",
       " 'by',\n",
       " 'ICC',\n",
       " 'in',\n",
       " '2020.',\n",
       " 'With',\n",
       " 'Indian',\n",
       " 'team',\n",
       " 'he',\n",
       " 'has',\n",
       " 'won',\n",
       " '2011',\n",
       " 'World',\n",
       " 'Cup',\n",
       " 'and',\n",
       " '2013',\n",
       " 'Champions',\n",
       " 'trophy.\\n\\nBorn',\n",
       " 'and',\n",
       " 'raised',\n",
       " 'in',\n",
       " 'Delhi,',\n",
       " 'Kohli',\n",
       " 'trained',\n",
       " 'in',\n",
       " 'West',\n",
       " 'Delhi',\n",
       " 'Cricket',\n",
       " 'Academy;',\n",
       " 'started',\n",
       " 'his',\n",
       " 'youth',\n",
       " 'career',\n",
       " 'with',\n",
       " 'Delhi',\n",
       " 'Under-15',\n",
       " 'team.',\n",
       " 'Kohli',\n",
       " 'made',\n",
       " 'his',\n",
       " 'international',\n",
       " 'debut',\n",
       " 'in',\n",
       " '2008,',\n",
       " 'he',\n",
       " 'established',\n",
       " 'himself',\n",
       " 'as',\n",
       " 'integral',\n",
       " 'part',\n",
       " 'of',\n",
       " 'ODI',\n",
       " 'team',\n",
       " 'in',\n",
       " 'next',\n",
       " 'two',\n",
       " 'years.',\n",
       " 'In',\n",
       " '2011,',\n",
       " 'made',\n",
       " 'his',\n",
       " 'first',\n",
       " 'Test',\n",
       " 'appearance.[4]',\n",
       " 'He',\n",
       " 'reached',\n",
       " 'the',\n",
       " 'number',\n",
       " 'one',\n",
       " 'spot',\n",
       " 'in',\n",
       " 'the',\n",
       " 'ICC',\n",
       " 'rankings',\n",
       " 'for',\n",
       " 'ODI',\n",
       " 'batsmen',\n",
       " 'for',\n",
       " 'the',\n",
       " 'first',\n",
       " 'time',\n",
       " 'in',\n",
       " '2013.[5]',\n",
       " 'During',\n",
       " '2014',\n",
       " 'T20',\n",
       " 'World',\n",
       " 'Cup,',\n",
       " 'Kohli',\n",
       " 'set',\n",
       " 'the',\n",
       " 'record',\n",
       " 'for',\n",
       " 'most',\n",
       " 'runs',\n",
       " 'in',\n",
       " 'the',\n",
       " 'tournament.',\n",
       " 'After',\n",
       " 'rising',\n",
       " 'to',\n",
       " 'top',\n",
       " 'of',\n",
       " 'test–rankings',\n",
       " 'in',\n",
       " '2018,',\n",
       " 'he',\n",
       " 'became',\n",
       " 'the',\n",
       " 'only',\n",
       " 'Indian-batsman',\n",
       " 'to',\n",
       " 'achieve',\n",
       " 'number',\n",
       " 'one',\n",
       " 'position',\n",
       " 'in',\n",
       " 'ICC',\n",
       " 'Rankings',\n",
       " 'in',\n",
       " 'all',\n",
       " 'three',\n",
       " 'formats.',\n",
       " 'Kohli',\n",
       " 'stepped-down',\n",
       " 'as',\n",
       " 'captain',\n",
       " 'of',\n",
       " 'T20I',\n",
       " 'in',\n",
       " '2021',\n",
       " 'and',\n",
       " 'from',\n",
       " 'test-format',\n",
       " 'in',\n",
       " 'early',\n",
       " '2022.\\n\\nKohli',\n",
       " 'is',\n",
       " 'considered',\n",
       " 'prolific',\n",
       " 'batsman',\n",
       " 'and',\n",
       " 'run-scorer.',\n",
       " 'He',\n",
       " 'has',\n",
       " 'won',\n",
       " 'Man',\n",
       " 'of',\n",
       " 'the',\n",
       " 'Tournament',\n",
       " 'twice',\n",
       " 'at',\n",
       " 'the',\n",
       " 'ICC',\n",
       " 'World',\n",
       " 'Twenty20',\n",
       " '(in',\n",
       " '2014',\n",
       " 'and',\n",
       " '2016).',\n",
       " 'Playing',\n",
       " 'for',\n",
       " 'his',\n",
       " 'franchise',\n",
       " 'in',\n",
       " 'IPL,',\n",
       " 'he',\n",
       " 'won',\n",
       " 'the',\n",
       " 'Orange',\n",
       " 'Cap',\n",
       " 'and',\n",
       " 'Most-valuable',\n",
       " 'Player',\n",
       " 'Award',\n",
       " 'in',\n",
       " '2016',\n",
       " 'season.',\n",
       " 'With',\n",
       " '40',\n",
       " 'wins',\n",
       " 'out',\n",
       " 'of',\n",
       " '68',\n",
       " 'tests,',\n",
       " 'he',\n",
       " 'is',\n",
       " \"India's\",\n",
       " 'most',\n",
       " 'successful',\n",
       " 'test',\n",
       " 'captain,',\n",
       " 'and',\n",
       " 'one',\n",
       " 'of',\n",
       " 'the',\n",
       " 'most',\n",
       " 'successful',\n",
       " 'test',\n",
       " 'captains',\n",
       " 'of',\n",
       " 'all',\n",
       " 'time.',\n",
       " 'Kohli',\n",
       " 'has',\n",
       " 'won',\n",
       " 'most',\n",
       " 'player',\n",
       " 'of',\n",
       " 'the',\n",
       " 'match',\n",
       " 'and',\n",
       " 'series',\n",
       " 'awards',\n",
       " 'in',\n",
       " \"T20I.\\n\\nKohli's\",\n",
       " 'first',\n",
       " 'major',\n",
       " 'award',\n",
       " 'in',\n",
       " 'International',\n",
       " 'cricket',\n",
       " 'was',\n",
       " 'ICC',\n",
       " 'ODI',\n",
       " 'Player',\n",
       " 'of',\n",
       " 'the',\n",
       " 'Year',\n",
       " 'in',\n",
       " '2012.',\n",
       " 'Kohli',\n",
       " 'has',\n",
       " 'won',\n",
       " 'Sir',\n",
       " 'Garfield',\n",
       " 'Sobers',\n",
       " 'Trophy',\n",
       " 'twice',\n",
       " '(2017',\n",
       " 'and',\n",
       " '2018),',\n",
       " 'an',\n",
       " 'award',\n",
       " 'for',\n",
       " 'ICC',\n",
       " 'Cricketer',\n",
       " 'of',\n",
       " 'the',\n",
       " 'Year.',\n",
       " 'In',\n",
       " '2018',\n",
       " 'he',\n",
       " 'won',\n",
       " 'ICC',\n",
       " 'Test',\n",
       " 'Player',\n",
       " 'of',\n",
       " 'the',\n",
       " 'Year,',\n",
       " 'and',\n",
       " 'ICC',\n",
       " 'ODI',\n",
       " 'Player',\n",
       " 'of',\n",
       " 'the',\n",
       " 'Year',\n",
       " 'award;',\n",
       " 'for',\n",
       " 'the',\n",
       " 'third',\n",
       " 'time',\n",
       " 'in',\n",
       " 'his',\n",
       " 'career.',\n",
       " 'From',\n",
       " '2016',\n",
       " 'to',\n",
       " '2018,',\n",
       " 'he',\n",
       " 'won',\n",
       " 'Wisden',\n",
       " 'Leading',\n",
       " 'Cricketer',\n",
       " 'in',\n",
       " 'the',\n",
       " 'World,',\n",
       " 'three',\n",
       " 'times',\n",
       " 'in',\n",
       " 'a',\n",
       " 'row.',\n",
       " 'At',\n",
       " 'the',\n",
       " 'national',\n",
       " 'level,',\n",
       " 'he',\n",
       " 'was',\n",
       " 'awarded',\n",
       " 'the',\n",
       " 'Arjuna',\n",
       " 'Award',\n",
       " 'in',\n",
       " '2013;',\n",
       " 'the',\n",
       " 'Padma',\n",
       " 'Shri',\n",
       " 'under',\n",
       " 'the',\n",
       " 'sports',\n",
       " 'category',\n",
       " 'in',\n",
       " '2017',\n",
       " 'and',\n",
       " 'the',\n",
       " 'Rajiv',\n",
       " 'Gandhi',\n",
       " 'Khel',\n",
       " 'Ratna',\n",
       " 'award,',\n",
       " 'the',\n",
       " 'highest',\n",
       " 'sporting',\n",
       " 'honour',\n",
       " 'in',\n",
       " 'India,',\n",
       " 'in',\n",
       " '2018.']"
      ]
     },
     "execution_count": 68,
     "metadata": {},
     "output_type": "execute_result"
    }
   ],
   "source": [
    "vk2.split(\" \")"
   ]
  },
  {
   "cell_type": "code",
   "execution_count": 70,
   "metadata": {},
   "outputs": [
    {
     "data": {
      "text/plain": [
       "['Virat ',\n",
       " ' (Hindi pronunciation: [ʋɪˈɾɑːʈ ˈkoːɦli] (listen); born 5 November 1988) is an Indian international cricketer and former captain of the India national team. He is widely regarded as one of the greatest batsmen in modern cricket.[3] ',\n",
       " ' plays as a right-handed batsman for Royal Challengers Bangalore in the Indian Premier League and for Delhi in Indian domestic cricket. ',\n",
       " ' holds the record for scoring most runs in both T20 internationals and in IPL, named as player of decade by ICC in 2020. With Indian team he has won 2011 World Cup and 2013 Champions trophy.\\n\\nBorn and raised in Delhi, ',\n",
       " ' trained in West Delhi Cricket Academy; started his youth career with Delhi Under-15 team. ',\n",
       " ' made his international debut in 2008, he established himself as integral part of ODI team in next two years. In 2011, made his first Test appearance.[4] He reached the number one spot in the ICC rankings for ODI batsmen for the first time in 2013.[5] During 2014 T20 World Cup, ',\n",
       " ' set the record for most runs in the tournament. After rising to top of test–rankings in 2018, he became the only Indian-batsman to achieve number one position in ICC Rankings in all three formats. ',\n",
       " ' stepped-down as captain of T20I in 2021 and from test-format in early 2022.\\n\\n',\n",
       " \" is considered prolific batsman and run-scorer. He has won Man of the Tournament twice at the ICC World Twenty20 (in 2014 and 2016). Playing for his franchise in IPL, he won the Orange Cap and Most-valuable Player Award in 2016 season. With 40 wins out of 68 tests, he is India's most successful test captain, and one of the most successful test captains of all time. \",\n",
       " ' has won most player of the match and series awards in T20I.\\n\\n',\n",
       " \"'s first major award in International cricket was ICC ODI Player of the Year in 2012. \",\n",
       " ' has won Sir Garfield Sobers Trophy twice (2017 and 2018), an award for ICC Cricketer of the Year. In 2018 he won ICC Test Player of the Year, and ICC ODI Player of the Year award; for the third time in his career. From 2016 to 2018, he won Wisden Leading Cricketer in the World, three times in a row. At the national level, he was awarded the Arjuna Award in 2013; the Padma Shri under the sports category in 2017 and the Rajiv Gandhi Khel Ratna award, the highest sporting honour in India, in 2018.']"
      ]
     },
     "execution_count": 70,
     "metadata": {},
     "output_type": "execute_result"
    }
   ],
   "source": [
    "vk2.split(\"Kohli\")"
   ]
  },
  {
   "cell_type": "code",
   "execution_count": 71,
   "metadata": {},
   "outputs": [
    {
     "data": {
      "text/plain": [
       "\"VIRAT KOHLI (HINDI PRONUNCIATION: [ƲꞮˈɾⱭːƮ ˈKOːꞪLI] (LISTEN); BORN 5 NOVEMBER 1988) IS AN INDIAN INTERNATIONAL CRICKETER AND FORMER CAPTAIN OF THE INDIA NATIONAL TEAM. HE IS WIDELY REGARDED AS ONE OF THE GREATEST BATSMEN IN MODERN CRICKET.[3] KOHLI PLAYS AS A RIGHT-HANDED BATSMAN FOR ROYAL CHALLENGERS BANGALORE IN THE INDIAN PREMIER LEAGUE AND FOR DELHI IN INDIAN DOMESTIC CRICKET. KOHLI HOLDS THE RECORD FOR SCORING MOST RUNS IN BOTH T20 INTERNATIONALS AND IN IPL, NAMED AS PLAYER OF DECADE BY ICC IN 2020. WITH INDIAN TEAM HE HAS WON 2011 WORLD CUP AND 2013 CHAMPIONS TROPHY.\\n\\nBORN AND RAISED IN DELHI, KOHLI TRAINED IN WEST DELHI CRICKET ACADEMY; STARTED HIS YOUTH CAREER WITH DELHI UNDER-15 TEAM. KOHLI MADE HIS INTERNATIONAL DEBUT IN 2008, HE ESTABLISHED HIMSELF AS INTEGRAL PART OF ODI TEAM IN NEXT TWO YEARS. IN 2011, MADE HIS FIRST TEST APPEARANCE.[4] HE REACHED THE NUMBER ONE SPOT IN THE ICC RANKINGS FOR ODI BATSMEN FOR THE FIRST TIME IN 2013.[5] DURING 2014 T20 WORLD CUP, KOHLI SET THE RECORD FOR MOST RUNS IN THE TOURNAMENT. AFTER RISING TO TOP OF TEST–RANKINGS IN 2018, HE BECAME THE ONLY INDIAN-BATSMAN TO ACHIEVE NUMBER ONE POSITION IN ICC RANKINGS IN ALL THREE FORMATS. KOHLI STEPPED-DOWN AS CAPTAIN OF T20I IN 2021 AND FROM TEST-FORMAT IN EARLY 2022.\\n\\nKOHLI IS CONSIDERED PROLIFIC BATSMAN AND RUN-SCORER. HE HAS WON MAN OF THE TOURNAMENT TWICE AT THE ICC WORLD TWENTY20 (IN 2014 AND 2016). PLAYING FOR HIS FRANCHISE IN IPL, HE WON THE ORANGE CAP AND MOST-VALUABLE PLAYER AWARD IN 2016 SEASON. WITH 40 WINS OUT OF 68 TESTS, HE IS INDIA'S MOST SUCCESSFUL TEST CAPTAIN, AND ONE OF THE MOST SUCCESSFUL TEST CAPTAINS OF ALL TIME. KOHLI HAS WON MOST PLAYER OF THE MATCH AND SERIES AWARDS IN T20I.\\n\\nKOHLI'S FIRST MAJOR AWARD IN INTERNATIONAL CRICKET WAS ICC ODI PLAYER OF THE YEAR IN 2012. KOHLI HAS WON SIR GARFIELD SOBERS TROPHY TWICE (2017 AND 2018), AN AWARD FOR ICC CRICKETER OF THE YEAR. IN 2018 HE WON ICC TEST PLAYER OF THE YEAR, AND ICC ODI PLAYER OF THE YEAR AWARD; FOR THE THIRD TIME IN HIS CAREER. FROM 2016 TO 2018, HE WON WISDEN LEADING CRICKETER IN THE WORLD, THREE TIMES IN A ROW. AT THE NATIONAL LEVEL, HE WAS AWARDED THE ARJUNA AWARD IN 2013; THE PADMA SHRI UNDER THE SPORTS CATEGORY IN 2017 AND THE RAJIV GANDHI KHEL RATNA AWARD, THE HIGHEST SPORTING HONOUR IN INDIA, IN 2018.\""
      ]
     },
     "execution_count": 71,
     "metadata": {},
     "output_type": "execute_result"
    }
   ],
   "source": [
    "vk2.upper()"
   ]
  },
  {
   "cell_type": "code",
   "execution_count": 73,
   "metadata": {},
   "outputs": [],
   "source": [
    "vk2 = vk2.upper()"
   ]
  },
  {
   "cell_type": "code",
   "execution_count": 74,
   "metadata": {},
   "outputs": [
    {
     "data": {
      "text/plain": [
       "'VIRAT KOHLI (HINDI PRONUNCIATION: [ƲꞮˈɾⱭːƮ ˈKOːꞪLI] (LISTEN); BORN 5 NOVEMBER 1988) IS AN INDIAN INTERNATIONAL CRICKETER AND FORMER CAPTAIN OF THE INDIA NATIONAL TEAM. HE IS WIDELY REGARDED AS ONE OF THE GREATEST BATSMEN IN MODERN CRICKET.[3] KOHLI PLAYS AS A RIGHT-HANDED BATSMAN FOR ROYAL CHALLENGERS BANGALORE IN THE INDIAN PREMIER LEAGUE AND FOR DELHI IN INDIAN DOMESTIC CRICKET. KOHLI HOLDS THE RECORD FOR SCORING MOST RUNS IN BOTH T20 INTERNATIONALS AND IN IPL, NAMED AS PLAYER OF DECADE BY ICC IN 2020. WITH INDIAN TEAM HE HAS WON 2011 WORLD CUP AND 2013 CHAMPIONS TROPHY.'"
      ]
     },
     "execution_count": 74,
     "metadata": {},
     "output_type": "execute_result"
    }
   ],
   "source": [
    "vk2"
   ]
  },
  {
   "cell_type": "code",
   "execution_count": 75,
   "metadata": {},
   "outputs": [
    {
     "data": {
      "text/plain": [
       "'virat kohli (hindi pronunciation: [ʋɪˈɾɑːʈ ˈkoːɦli] (listen); born 5 november 1988) is an indian international cricketer and former captain of the india national team. he is widely regarded as one of the greatest batsmen in modern cricket.[3] kohli plays as a right-handed batsman for royal challengers bangalore in the indian premier league and for delhi in indian domestic cricket. kohli holds the record for scoring most runs in both t20 internationals and in ipl, named as player of decade by icc in 2020. with indian team he has won 2011 world cup and 2013 champions trophy.'"
      ]
     },
     "execution_count": 75,
     "metadata": {},
     "output_type": "execute_result"
    }
   ],
   "source": [
    "vk2.lower()"
   ]
  },
  {
   "cell_type": "code",
   "execution_count": 78,
   "metadata": {},
   "outputs": [],
   "source": [
    "j= \"javed ali\""
   ]
  },
  {
   "cell_type": "code",
   "execution_count": 79,
   "metadata": {},
   "outputs": [
    {
     "data": {
      "text/plain": [
       "'Javed Ali'"
      ]
     },
     "execution_count": 79,
     "metadata": {},
     "output_type": "execute_result"
    }
   ],
   "source": [
    "j.title()"
   ]
  },
  {
   "cell_type": "code",
   "execution_count": 80,
   "metadata": {},
   "outputs": [
    {
     "data": {
      "text/plain": [
       "'Javed ali'"
      ]
     },
     "execution_count": 80,
     "metadata": {},
     "output_type": "execute_result"
    }
   ],
   "source": [
    "j.capitalize()"
   ]
  },
  {
   "cell_type": "code",
   "execution_count": 81,
   "metadata": {},
   "outputs": [],
   "source": [
    "j=\"Javed ALI\""
   ]
  },
  {
   "cell_type": "code",
   "execution_count": 82,
   "metadata": {},
   "outputs": [
    {
     "data": {
      "text/plain": [
       "'jAVED ali'"
      ]
     },
     "execution_count": 82,
     "metadata": {},
     "output_type": "execute_result"
    }
   ],
   "source": [
    "j.swapcase()"
   ]
  },
  {
   "cell_type": "code",
   "execution_count": 83,
   "metadata": {},
   "outputs": [
    {
     "data": {
      "text/plain": [
       "'ILA devaJ'"
      ]
     },
     "execution_count": 83,
     "metadata": {},
     "output_type": "execute_result"
    }
   ],
   "source": [
    "''.join(reversed(j))"
   ]
  },
  {
   "cell_type": "code",
   "execution_count": 84,
   "metadata": {},
   "outputs": [
    {
     "data": {
      "text/plain": [
       "'ILA devaJ'"
      ]
     },
     "execution_count": 84,
     "metadata": {},
     "output_type": "execute_result"
    }
   ],
   "source": [
    "j[::-1]"
   ]
  },
  {
   "cell_type": "code",
   "execution_count": 85,
   "metadata": {},
   "outputs": [],
   "source": [
    "j1=\"      ali    \""
   ]
  },
  {
   "cell_type": "code",
   "execution_count": 87,
   "metadata": {},
   "outputs": [
    {
     "data": {
      "text/plain": [
       "'ali'"
      ]
     },
     "execution_count": 87,
     "metadata": {},
     "output_type": "execute_result"
    }
   ],
   "source": [
    "j1.strip()"
   ]
  },
  {
   "cell_type": "code",
   "execution_count": 88,
   "metadata": {},
   "outputs": [
    {
     "data": {
      "text/plain": [
       "'ali    '"
      ]
     },
     "execution_count": 88,
     "metadata": {},
     "output_type": "execute_result"
    }
   ],
   "source": [
    "j1.lstrip()"
   ]
  },
  {
   "cell_type": "code",
   "execution_count": 89,
   "metadata": {},
   "outputs": [
    {
     "data": {
      "text/plain": [
       "'      ali'"
      ]
     },
     "execution_count": 89,
     "metadata": {},
     "output_type": "execute_result"
    }
   ],
   "source": [
    "j1.rstrip()"
   ]
  },
  {
   "cell_type": "code",
   "execution_count": 90,
   "metadata": {},
   "outputs": [
    {
     "data": {
      "text/plain": [
       "'Javed ALI'"
      ]
     },
     "execution_count": 90,
     "metadata": {},
     "output_type": "execute_result"
    }
   ],
   "source": [
    "j"
   ]
  },
  {
   "cell_type": "code",
   "execution_count": 91,
   "metadata": {},
   "outputs": [
    {
     "data": {
      "text/plain": [
       "'j'"
      ]
     },
     "execution_count": 91,
     "metadata": {},
     "output_type": "execute_result"
    }
   ],
   "source": [
    "' '.join(\"j\")"
   ]
  },
  {
   "cell_type": "code",
   "execution_count": 92,
   "metadata": {},
   "outputs": [
    {
     "data": {
      "text/plain": [
       "'j a v e d a l i'"
      ]
     },
     "execution_count": 92,
     "metadata": {},
     "output_type": "execute_result"
    }
   ],
   "source": [
    "' '.join(\"javedali\")"
   ]
  },
  {
   "cell_type": "code",
   "execution_count": 93,
   "metadata": {},
   "outputs": [
    {
     "data": {
      "text/plain": [
       "'jd sad svd sed sdd sad sld si'"
      ]
     },
     "execution_count": 93,
     "metadata": {},
     "output_type": "execute_result"
    }
   ],
   "source": [
    "'d s'.join(\"javedali\")"
   ]
  },
  {
   "cell_type": "code",
   "execution_count": 94,
   "metadata": {},
   "outputs": [],
   "source": [
    "s=\"javedali\""
   ]
  },
  {
   "cell_type": "code",
   "execution_count": 97,
   "metadata": {},
   "outputs": [
    {
     "data": {
      "text/plain": [
       "'ccccccjavedalicccccc'"
      ]
     },
     "execution_count": 97,
     "metadata": {},
     "output_type": "execute_result"
    }
   ],
   "source": [
    "s.center(20,\"c\")"
   ]
  },
  {
   "cell_type": "code",
   "execution_count": 98,
   "metadata": {},
   "outputs": [
    {
     "data": {
      "text/plain": [
       "'javedali'"
      ]
     },
     "execution_count": 98,
     "metadata": {},
     "output_type": "execute_result"
    }
   ],
   "source": [
    "s"
   ]
  },
  {
   "cell_type": "code",
   "execution_count": 99,
   "metadata": {},
   "outputs": [
    {
     "data": {
      "text/plain": [
       "True"
      ]
     },
     "execution_count": 99,
     "metadata": {},
     "output_type": "execute_result"
    }
   ],
   "source": [
    "s.islower()"
   ]
  },
  {
   "cell_type": "code",
   "execution_count": 100,
   "metadata": {},
   "outputs": [],
   "source": [
    "s=\"JAVED ALI\""
   ]
  },
  {
   "cell_type": "code",
   "execution_count": 101,
   "metadata": {},
   "outputs": [
    {
     "data": {
      "text/plain": [
       "'JAVED ALI'"
      ]
     },
     "execution_count": 101,
     "metadata": {},
     "output_type": "execute_result"
    }
   ],
   "source": [
    "s"
   ]
  },
  {
   "cell_type": "code",
   "execution_count": 102,
   "metadata": {},
   "outputs": [
    {
     "data": {
      "text/plain": [
       "True"
      ]
     },
     "execution_count": 102,
     "metadata": {},
     "output_type": "execute_result"
    }
   ],
   "source": [
    "s.isupper()"
   ]
  },
  {
   "cell_type": "code",
   "execution_count": 103,
   "metadata": {},
   "outputs": [
    {
     "data": {
      "text/plain": [
       "False"
      ]
     },
     "execution_count": 103,
     "metadata": {},
     "output_type": "execute_result"
    }
   ],
   "source": [
    "s.islower()"
   ]
  },
  {
   "cell_type": "code",
   "execution_count": 104,
   "metadata": {},
   "outputs": [
    {
     "data": {
      "text/plain": [
       "False"
      ]
     },
     "execution_count": 104,
     "metadata": {},
     "output_type": "execute_result"
    }
   ],
   "source": [
    "s.isspace()"
   ]
  },
  {
   "cell_type": "code",
   "execution_count": 105,
   "metadata": {},
   "outputs": [],
   "source": [
    "s=\" \""
   ]
  },
  {
   "cell_type": "code",
   "execution_count": 106,
   "metadata": {},
   "outputs": [
    {
     "data": {
      "text/plain": [
       "' '"
      ]
     },
     "execution_count": 106,
     "metadata": {},
     "output_type": "execute_result"
    }
   ],
   "source": [
    "s"
   ]
  },
  {
   "cell_type": "code",
   "execution_count": 107,
   "metadata": {},
   "outputs": [
    {
     "data": {
      "text/plain": [
       "True"
      ]
     },
     "execution_count": 107,
     "metadata": {},
     "output_type": "execute_result"
    }
   ],
   "source": [
    "s.isspace()"
   ]
  },
  {
   "cell_type": "code",
   "execution_count": 108,
   "metadata": {},
   "outputs": [],
   "source": [
    "s='0'"
   ]
  },
  {
   "cell_type": "code",
   "execution_count": 109,
   "metadata": {},
   "outputs": [
    {
     "data": {
      "text/plain": [
       "True"
      ]
     },
     "execution_count": 109,
     "metadata": {},
     "output_type": "execute_result"
    }
   ],
   "source": [
    "s.isdigit()"
   ]
  },
  {
   "cell_type": "code",
   "execution_count": 110,
   "metadata": {},
   "outputs": [],
   "source": [
    "s=\"javedali\""
   ]
  },
  {
   "cell_type": "code",
   "execution_count": 111,
   "metadata": {},
   "outputs": [
    {
     "data": {
      "text/plain": [
       "True"
      ]
     },
     "execution_count": 111,
     "metadata": {},
     "output_type": "execute_result"
    }
   ],
   "source": [
    "s.isalnum()"
   ]
  },
  {
   "cell_type": "code",
   "execution_count": 112,
   "metadata": {},
   "outputs": [
    {
     "data": {
      "text/plain": [
       "True"
      ]
     },
     "execution_count": 112,
     "metadata": {},
     "output_type": "execute_result"
    }
   ],
   "source": [
    "s.isalpha()"
   ]
  },
  {
   "cell_type": "code",
   "execution_count": 113,
   "metadata": {},
   "outputs": [],
   "source": [
    "s=\"23def\""
   ]
  },
  {
   "cell_type": "code",
   "execution_count": 114,
   "metadata": {},
   "outputs": [
    {
     "data": {
      "text/plain": [
       "True"
      ]
     },
     "execution_count": 114,
     "metadata": {},
     "output_type": "execute_result"
    }
   ],
   "source": [
    "s.isalnum()"
   ]
  },
  {
   "cell_type": "code",
   "execution_count": 115,
   "metadata": {},
   "outputs": [],
   "source": [
    "s=\"2345\""
   ]
  },
  {
   "cell_type": "code",
   "execution_count": 117,
   "metadata": {},
   "outputs": [
    {
     "data": {
      "text/plain": [
       "True"
      ]
     },
     "execution_count": 117,
     "metadata": {},
     "output_type": "execute_result"
    }
   ],
   "source": [
    "s.isnumeric()"
   ]
  },
  {
   "cell_type": "code",
   "execution_count": 118,
   "metadata": {},
   "outputs": [],
   "source": [
    "s=\"javedali\""
   ]
  },
  {
   "cell_type": "code",
   "execution_count": 120,
   "metadata": {},
   "outputs": [
    {
     "data": {
      "text/plain": [
       "False"
      ]
     },
     "execution_count": 120,
     "metadata": {},
     "output_type": "execute_result"
    }
   ],
   "source": [
    "s.startswith(\"r\")"
   ]
  },
  {
   "cell_type": "code",
   "execution_count": 121,
   "metadata": {},
   "outputs": [
    {
     "data": {
      "text/plain": [
       "True"
      ]
     },
     "execution_count": 121,
     "metadata": {},
     "output_type": "execute_result"
    }
   ],
   "source": [
    "s.startswith(\"j\")"
   ]
  },
  {
   "cell_type": "code",
   "execution_count": 122,
   "metadata": {},
   "outputs": [
    {
     "data": {
      "text/plain": [
       "False"
      ]
     },
     "execution_count": 122,
     "metadata": {},
     "output_type": "execute_result"
    }
   ],
   "source": [
    "s.startswith(\"J\")"
   ]
  },
  {
   "cell_type": "code",
   "execution_count": 123,
   "metadata": {},
   "outputs": [
    {
     "data": {
      "text/plain": [
       "False"
      ]
     },
     "execution_count": 123,
     "metadata": {},
     "output_type": "execute_result"
    }
   ],
   "source": [
    "s.endswith(\"d\")"
   ]
  },
  {
   "cell_type": "code",
   "execution_count": 124,
   "metadata": {},
   "outputs": [
    {
     "data": {
      "text/plain": [
       "True"
      ]
     },
     "execution_count": 124,
     "metadata": {},
     "output_type": "execute_result"
    }
   ],
   "source": [
    "s.endswith(\"i\")"
   ]
  },
  {
   "cell_type": "code",
   "execution_count": 125,
   "metadata": {},
   "outputs": [
    {
     "data": {
      "text/plain": [
       "'javedali'"
      ]
     },
     "execution_count": 125,
     "metadata": {},
     "output_type": "execute_result"
    }
   ],
   "source": [
    "s"
   ]
  },
  {
   "cell_type": "code",
   "execution_count": 126,
   "metadata": {},
   "outputs": [
    {
     "data": {
      "text/plain": [
       "True"
      ]
     },
     "execution_count": 126,
     "metadata": {},
     "output_type": "execute_result"
    }
   ],
   "source": [
    "s.isascii()"
   ]
  },
  {
   "cell_type": "code",
   "execution_count": 133,
   "metadata": {},
   "outputs": [],
   "source": [
    "s=\"shashi\\tjaved\\tali\\tashiq\""
   ]
  },
  {
   "cell_type": "code",
   "execution_count": 134,
   "metadata": {},
   "outputs": [
    {
     "data": {
      "text/plain": [
       "'shashi  javed   ali     ashiq'"
      ]
     },
     "execution_count": 134,
     "metadata": {},
     "output_type": "execute_result"
    }
   ],
   "source": [
    "s.expandtabs()"
   ]
  },
  {
   "cell_type": "code",
   "execution_count": null,
   "metadata": {},
   "outputs": [],
   "source": []
  }
 ],
 "metadata": {
  "kernelspec": {
   "display_name": "Python 3",
   "language": "python",
   "name": "python3"
  },
  "language_info": {
   "codemirror_mode": {
    "name": "ipython",
    "version": 3
   },
   "file_extension": ".py",
   "mimetype": "text/x-python",
   "name": "python",
   "nbconvert_exporter": "python",
   "pygments_lexer": "ipython3",
   "version": "3.7.4"
  }
 },
 "nbformat": 4,
 "nbformat_minor": 2
}
